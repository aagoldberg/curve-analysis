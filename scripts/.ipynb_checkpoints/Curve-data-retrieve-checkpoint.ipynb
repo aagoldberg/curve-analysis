{
 "cells": [
  {
   "cell_type": "code",
   "execution_count": 33,
   "id": "43599b6f-baef-4014-97ad-ce773b4ec9ac",
   "metadata": {},
   "outputs": [],
   "source": [
    "from dotenv import load_dotenv, dotenv_values\n",
    "import logging\n",
    "import json\n",
    "from pandas.io.json import json_normalize\n",
    "import requests\n",
    "import pandas as pd\n",
    "import csv\n",
    "import pickle\n",
    "from web3 import Web3\n",
    "from web3.providers.rpc import HTTPProvider\n",
    "# from web3 import accounts, Contract, chain"
   ]
  },
  {
   "cell_type": "code",
   "execution_count": 46,
   "id": "268fb89e-bafe-4580-9770-2e998c4d2414",
   "metadata": {},
   "outputs": [],
   "source": [
    "config = dotenv_values(\".env\")"
   ]
  },
  {
   "cell_type": "code",
   "execution_count": 47,
   "id": "2d983736-564c-4c67-b5b0-ea91ff43a813",
   "metadata": {},
   "outputs": [
    {
     "data": {
      "text/plain": [
       "OrderedDict([('WEB3_INFURA_PROJECT_ID', '74fdad52c2124b76a1a94723ae0acfd5'),\n",
       "             ('WEB3_ALCHEMY_PROJECT_ID', 'GKgCUOVcBnuJy00-tTxKYlwePj8BIBqg'),\n",
       "             ('ETHERSCAN_TOKEN', 'WUEE4KT73EMCP2DBPMZ775TV3RHZX53DTZ')])"
      ]
     },
     "execution_count": 47,
     "metadata": {},
     "output_type": "execute_result"
    }
   ],
   "source": [
    "config"
   ]
  },
  {
   "cell_type": "code",
   "execution_count": 123,
   "id": "deff0cdf-b138-44ee-b32e-635dc4da25cd",
   "metadata": {},
   "outputs": [
    {
     "name": "stdout",
     "output_type": "stream",
     "text": [
      "web3.eth: 16770991\n"
     ]
    }
   ],
   "source": [
    "def connect():\n",
    "    logging.basicConfig(format=\"%(levelname)s: %(message)s\", level=logging.INFO)\n",
    "    config = dotenv_values(\".env\")\n",
    "\n",
    "    alchemy_project_id = config['WEB3_ALCHEMY_PROJECT_ID']\n",
    "    alchemy_url = f'https://eth-mainnet.g.alchemy.com/v2/{alchemy_project_id}'\n",
    "    # w3 = Web3(Web3.HTTPProvider(alchemy_url))\n",
    "    provider = HTTPProvider(alchemy_url)\n",
    "    web3 = Web3(provider)\n",
    "    print(f'web3.eth: {web3.eth.block_number}')\n",
    "# w3.eth.isConnected()\n",
    "    # web3.network.multicall.CONFIG.active_network['multicall2'] = '0x5BA1e12693Dc8F9c48aAD8770482f4739bEeD696'"
   ]
  },
  {
   "cell_type": "code",
   "execution_count": 76,
   "id": "8eec35e5-2482-41cc-b3e2-1bdd027e07ac",
   "metadata": {},
   "outputs": [
    {
     "name": "stdout",
     "output_type": "stream",
     "text": [
      "web3.eth: 16770917\n"
     ]
    }
   ],
   "source": [
    "connect()"
   ]
  },
  {
   "cell_type": "code",
   "execution_count": 77,
   "id": "8e21a75e-b767-4304-bbbc-a01ecd3a464d",
   "metadata": {},
   "outputs": [],
   "source": [
    "curve_pools_df = pd.read_csv('curve-pool-large.csv')"
   ]
  },
  {
   "cell_type": "code",
   "execution_count": 78,
   "id": "013adb9b-2dae-4639-8332-5be739d92f53",
   "metadata": {},
   "outputs": [
    {
     "data": {
      "text/html": [
       "<div>\n",
       "<style scoped>\n",
       "    .dataframe tbody tr th:only-of-type {\n",
       "        vertical-align: middle;\n",
       "    }\n",
       "\n",
       "    .dataframe tbody tr th {\n",
       "        vertical-align: top;\n",
       "    }\n",
       "\n",
       "    .dataframe thead th {\n",
       "        text-align: right;\n",
       "    }\n",
       "</style>\n",
       "<table border=\"1\" class=\"dataframe\">\n",
       "  <thead>\n",
       "    <tr style=\"text-align: right;\">\n",
       "      <th></th>\n",
       "      <th>pool</th>\n",
       "      <th>address</th>\n",
       "      <th>first block</th>\n",
       "    </tr>\n",
       "  </thead>\n",
       "  <tbody>\n",
       "    <tr>\n",
       "      <th>0</th>\n",
       "      <td>steth</td>\n",
       "      <td>0xdc24316b9ae028f1497c275eb9192a3ea0f67022</td>\n",
       "      <td>11592551</td>\n",
       "    </tr>\n",
       "    <tr>\n",
       "      <th>1</th>\n",
       "      <td>3pool</td>\n",
       "      <td>0xbEbc44782C7dB0a1A60Cb6fe97d0b483032FF1C7</td>\n",
       "      <td>11119129</td>\n",
       "    </tr>\n",
       "    <tr>\n",
       "      <th>2</th>\n",
       "      <td>fraxusdc</td>\n",
       "      <td>0xdcef968d416a41cdac0ed8702fac8128a64241a2</td>\n",
       "      <td>14939588</td>\n",
       "    </tr>\n",
       "    <tr>\n",
       "      <th>3</th>\n",
       "      <td>frax</td>\n",
       "      <td>0xd632f22692fac7611d2aa1c0d552930d43caed3b</td>\n",
       "      <td>11972002</td>\n",
       "    </tr>\n",
       "    <tr>\n",
       "      <th>4</th>\n",
       "      <td>FPI2Pool</td>\n",
       "      <td>0xf861483fa7e511fbc37487d91b6faa803af5d37c</td>\n",
       "      <td>16257743</td>\n",
       "    </tr>\n",
       "  </tbody>\n",
       "</table>\n",
       "</div>"
      ],
      "text/plain": [
       "       pool                                     address  first block\n",
       "0     steth  0xdc24316b9ae028f1497c275eb9192a3ea0f67022     11592551\n",
       "1     3pool  0xbEbc44782C7dB0a1A60Cb6fe97d0b483032FF1C7     11119129\n",
       "2  fraxusdc  0xdcef968d416a41cdac0ed8702fac8128a64241a2     14939588\n",
       "3      frax  0xd632f22692fac7611d2aa1c0d552930d43caed3b     11972002\n",
       "4  FPI2Pool  0xf861483fa7e511fbc37487d91b6faa803af5d37c     16257743"
      ]
     },
     "execution_count": 78,
     "metadata": {},
     "output_type": "execute_result"
    }
   ],
   "source": [
    "curve_pools_df.head()"
   ]
  },
  {
   "cell_type": "code",
   "execution_count": 108,
   "id": "7650b76b-164b-4505-a566-7908bc324973",
   "metadata": {},
   "outputs": [],
   "source": [
    "def fetch_abi(pool_address):\n",
    "    etherscan_abi_call = f'''https://api.etherscan.io/api?module=contract&action=getabi&address={pool_address}&apikey={config['ETHERSCAN_TOKEN']}'''\n",
    "    r = requests.get(etherscan_abi_call)\n",
    "    abi = r.json()['result']\n",
    "    # abi = r.text\n",
    "    # print(abi)\n",
    "    return(abi)"
   ]
  },
  {
   "cell_type": "code",
   "execution_count": 109,
   "id": "d3bab645-a6ca-48fb-abf6-927cf4ec6b9e",
   "metadata": {},
   "outputs": [],
   "source": [
    "steth_abi = fetch_abi('0xdc24316b9ae028f1497c275eb9192a3ea0f67022')"
   ]
  },
  {
   "cell_type": "code",
   "execution_count": 110,
   "id": "33d3bae3-f04c-471e-9891-9fdb55a2beb5",
   "metadata": {},
   "outputs": [
    {
     "data": {
      "text/plain": [
       "'[{\"name\":\"TokenExchange\",\"inputs\":[{\"type\":\"address\",\"name\":\"buyer\",\"indexed\":true},{\"type\":\"int128\",\"name\":\"sold_id\",\"indexed\":false},{\"type\":\"uint256\",\"name\":\"tokens_sold\",\"indexed\":false},{\"type\":\"int128\",\"name\":\"bought_id\",\"indexed\":false},{\"type\":\"uint256\",\"name\":\"tokens_bought\",\"indexed\":false}],\"anonymous\":false,\"type\":\"event\"},{\"name\":\"TokenExchangeUnderlying\",\"inputs\":[{\"type\":\"address\",\"name\":\"buyer\",\"indexed\":true},{\"type\":\"int128\",\"name\":\"sold_id\",\"indexed\":false},{\"type\":\"uint256\",\"name\":\"tokens_sold\",\"indexed\":false},{\"type\":\"int128\",\"name\":\"bought_id\",\"indexed\":false},{\"type\":\"uint256\",\"name\":\"tokens_bought\",\"indexed\":false}],\"anonymous\":false,\"type\":\"event\"},{\"name\":\"AddLiquidity\",\"inputs\":[{\"type\":\"address\",\"name\":\"provider\",\"indexed\":true},{\"type\":\"uint256[2]\",\"name\":\"token_amounts\",\"indexed\":false},{\"type\":\"uint256[2]\",\"name\":\"fees\",\"indexed\":false},{\"type\":\"uint256\",\"name\":\"invariant\",\"indexed\":false},{\"type\":\"uint256\",\"name\":\"token_supply\",\"indexed\":false}],\"anonymous\":false,\"type\":\"event\"},{\"name\":\"RemoveLiquidity\",\"inputs\":[{\"type\":\"address\",\"name\":\"provider\",\"indexed\":true},{\"type\":\"uint256[2]\",\"name\":\"token_amounts\",\"indexed\":false},{\"type\":\"uint256[2]\",\"name\":\"fees\",\"indexed\":false},{\"type\":\"uint256\",\"name\":\"token_supply\",\"indexed\":false}],\"anonymous\":false,\"type\":\"event\"},{\"name\":\"RemoveLiquidityOne\",\"inputs\":[{\"type\":\"address\",\"name\":\"provider\",\"indexed\":true},{\"type\":\"uint256\",\"name\":\"token_amount\",\"indexed\":false},{\"type\":\"uint256\",\"name\":\"coin_amount\",\"indexed\":false}],\"anonymous\":false,\"type\":\"event\"},{\"name\":\"RemoveLiquidityImbalance\",\"inputs\":[{\"type\":\"address\",\"name\":\"provider\",\"indexed\":true},{\"type\":\"uint256[2]\",\"name\":\"token_amounts\",\"indexed\":false},{\"type\":\"uint256[2]\",\"name\":\"fees\",\"indexed\":false},{\"type\":\"uint256\",\"name\":\"invariant\",\"indexed\":false},{\"type\":\"uint256\",\"name\":\"token_supply\",\"indexed\":false}],\"anonymous\":false,\"type\":\"event\"},{\"name\":\"CommitNewAdmin\",\"inputs\":[{\"type\":\"uint256\",\"name\":\"deadline\",\"indexed\":true},{\"type\":\"address\",\"name\":\"admin\",\"indexed\":true}],\"anonymous\":false,\"type\":\"event\"},{\"name\":\"NewAdmin\",\"inputs\":[{\"type\":\"address\",\"name\":\"admin\",\"indexed\":true}],\"anonymous\":false,\"type\":\"event\"},{\"name\":\"CommitNewFee\",\"inputs\":[{\"type\":\"uint256\",\"name\":\"deadline\",\"indexed\":true},{\"type\":\"uint256\",\"name\":\"fee\",\"indexed\":false},{\"type\":\"uint256\",\"name\":\"admin_fee\",\"indexed\":false}],\"anonymous\":false,\"type\":\"event\"},{\"name\":\"NewFee\",\"inputs\":[{\"type\":\"uint256\",\"name\":\"fee\",\"indexed\":false},{\"type\":\"uint256\",\"name\":\"admin_fee\",\"indexed\":false}],\"anonymous\":false,\"type\":\"event\"},{\"name\":\"RampA\",\"inputs\":[{\"type\":\"uint256\",\"name\":\"old_A\",\"indexed\":false},{\"type\":\"uint256\",\"name\":\"new_A\",\"indexed\":false},{\"type\":\"uint256\",\"name\":\"initial_time\",\"indexed\":false},{\"type\":\"uint256\",\"name\":\"future_time\",\"indexed\":false}],\"anonymous\":false,\"type\":\"event\"},{\"name\":\"StopRampA\",\"inputs\":[{\"type\":\"uint256\",\"name\":\"A\",\"indexed\":false},{\"type\":\"uint256\",\"name\":\"t\",\"indexed\":false}],\"anonymous\":false,\"type\":\"event\"},{\"outputs\":[],\"inputs\":[{\"type\":\"address\",\"name\":\"_owner\"},{\"type\":\"address[2]\",\"name\":\"_coins\"},{\"type\":\"address\",\"name\":\"_pool_token\"},{\"type\":\"uint256\",\"name\":\"_A\"},{\"type\":\"uint256\",\"name\":\"_fee\"},{\"type\":\"uint256\",\"name\":\"_admin_fee\"}],\"stateMutability\":\"nonpayable\",\"type\":\"constructor\"},{\"name\":\"A\",\"outputs\":[{\"type\":\"uint256\",\"name\":\"\"}],\"inputs\":[],\"stateMutability\":\"view\",\"type\":\"function\",\"gas\":5289},{\"name\":\"A_precise\",\"outputs\":[{\"type\":\"uint256\",\"name\":\"\"}],\"inputs\":[],\"stateMutability\":\"view\",\"type\":\"function\",\"gas\":5251},{\"name\":\"balances\",\"outputs\":[{\"type\":\"uint256\",\"name\":\"\"}],\"inputs\":[{\"type\":\"uint256\",\"name\":\"i\"}],\"stateMutability\":\"view\",\"type\":\"function\",\"gas\":5076},{\"name\":\"get_virtual_price\",\"outputs\":[{\"type\":\"uint256\",\"name\":\"\"}],\"inputs\":[],\"stateMutability\":\"view\",\"type\":\"function\",\"gas\":1114301},{\"name\":\"calc_token_amount\",\"outputs\":[{\"type\":\"uint256\",\"name\":\"\"}],\"inputs\":[{\"type\":\"uint256[2]\",\"name\":\"amounts\"},{\"type\":\"bool\",\"name\":\"is_deposit\"}],\"stateMutability\":\"view\",\"type\":\"function\",\"gas\":2218181},{\"name\":\"add_liquidity\",\"outputs\":[{\"type\":\"uint256\",\"name\":\"\"}],\"inputs\":[{\"type\":\"uint256[2]\",\"name\":\"amounts\"},{\"type\":\"uint256\",\"name\":\"min_mint_amount\"}],\"stateMutability\":\"payable\",\"type\":\"function\",\"gas\":3484118},{\"name\":\"get_dy\",\"outputs\":[{\"type\":\"uint256\",\"name\":\"\"}],\"inputs\":[{\"type\":\"int128\",\"name\":\"i\"},{\"type\":\"int128\",\"name\":\"j\"},{\"type\":\"uint256\",\"name\":\"dx\"}],\"stateMutability\":\"view\",\"type\":\"function\",\"gas\":2654541},{\"name\":\"exchange\",\"outputs\":[{\"type\":\"uint256\",\"name\":\"\"}],\"inputs\":[{\"type\":\"int128\",\"name\":\"i\"},{\"type\":\"int128\",\"name\":\"j\"},{\"type\":\"uint256\",\"name\":\"dx\"},{\"type\":\"uint256\",\"name\":\"min_dy\"}],\"stateMutability\":\"payable\",\"type\":\"function\",\"gas\":2810134},{\"name\":\"remove_liquidity\",\"outputs\":[{\"type\":\"uint256[2]\",\"name\":\"\"}],\"inputs\":[{\"type\":\"uint256\",\"name\":\"_amount\"},{\"type\":\"uint256[2]\",\"name\":\"_min_amounts\"}],\"stateMutability\":\"nonpayable\",\"type\":\"function\",\"gas\":160545},{\"name\":\"remove_liquidity_imbalance\",\"outputs\":[{\"type\":\"uint256\",\"name\":\"\"}],\"inputs\":[{\"type\":\"uint256[2]\",\"name\":\"_amounts\"},{\"type\":\"uint256\",\"name\":\"_max_burn_amount\"}],\"stateMutability\":\"nonpayable\",\"type\":\"function\",\"gas\":3519382},{\"name\":\"calc_withdraw_one_coin\",\"outputs\":[{\"type\":\"uint256\",\"name\":\"\"}],\"inputs\":[{\"type\":\"uint256\",\"name\":\"_token_amount\"},{\"type\":\"int128\",\"name\":\"i\"}],\"stateMutability\":\"view\",\"type\":\"function\",\"gas\":1435},{\"name\":\"remove_liquidity_one_coin\",\"outputs\":[{\"type\":\"uint256\",\"name\":\"\"}],\"inputs\":[{\"type\":\"uint256\",\"name\":\"_token_amount\"},{\"type\":\"int128\",\"name\":\"i\"},{\"type\":\"uint256\",\"name\":\"_min_amount\"}],\"stateMutability\":\"nonpayable\",\"type\":\"function\",\"gas\":4113806},{\"name\":\"ramp_A\",\"outputs\":[],\"inputs\":[{\"type\":\"uint256\",\"name\":\"_future_A\"},{\"type\":\"uint256\",\"name\":\"_future_time\"}],\"stateMutability\":\"nonpayable\",\"type\":\"function\",\"gas\":151834},{\"name\":\"stop_ramp_A\",\"outputs\":[],\"inputs\":[],\"stateMutability\":\"nonpayable\",\"type\":\"function\",\"gas\":148595},{\"name\":\"commit_new_fee\",\"outputs\":[],\"inputs\":[{\"type\":\"uint256\",\"name\":\"new_fee\"},{\"type\":\"uint256\",\"name\":\"new_admin_fee\"}],\"stateMutability\":\"nonpayable\",\"type\":\"function\",\"gas\":110431},{\"name\":\"apply_new_fee\",\"outputs\":[],\"inputs\":[],\"stateMutability\":\"nonpayable\",\"type\":\"function\",\"gas\":153115},{\"name\":\"revert_new_parameters\",\"outputs\":[],\"inputs\":[],\"stateMutability\":\"nonpayable\",\"type\":\"function\",\"gas\":21865},{\"name\":\"commit_transfer_ownership\",\"outputs\":[],\"inputs\":[{\"type\":\"address\",\"name\":\"_owner\"}],\"stateMutability\":\"nonpayable\",\"type\":\"function\",\"gas\":74603},{\"name\":\"apply_transfer_ownership\",\"outputs\":[],\"inputs\":[],\"stateMutability\":\"nonpayable\",\"type\":\"function\",\"gas\":116583},{\"name\":\"revert_transfer_ownership\",\"outputs\":[],\"inputs\":[],\"stateMutability\":\"nonpayable\",\"type\":\"function\",\"gas\":21955},{\"name\":\"withdraw_admin_fees\",\"outputs\":[],\"inputs\":[],\"stateMutability\":\"nonpayable\",\"type\":\"function\",\"gas\":137597},{\"name\":\"donate_admin_fees\",\"outputs\":[],\"inputs\":[],\"stateMutability\":\"nonpayable\",\"type\":\"function\",\"gas\":42144},{\"name\":\"kill_me\",\"outputs\":[],\"inputs\":[],\"stateMutability\":\"nonpayable\",\"type\":\"function\",\"gas\":37938},{\"name\":\"unkill_me\",\"outputs\":[],\"inputs\":[],\"stateMutability\":\"nonpayable\",\"type\":\"function\",\"gas\":22075},{\"name\":\"coins\",\"outputs\":[{\"type\":\"address\",\"name\":\"\"}],\"inputs\":[{\"type\":\"uint256\",\"name\":\"arg0\"}],\"stateMutability\":\"view\",\"type\":\"function\",\"gas\":2160},{\"name\":\"admin_balances\",\"outputs\":[{\"type\":\"uint256\",\"name\":\"\"}],\"inputs\":[{\"type\":\"uint256\",\"name\":\"arg0\"}],\"stateMutability\":\"view\",\"type\":\"function\",\"gas\":2190},{\"name\":\"fee\",\"outputs\":[{\"type\":\"uint256\",\"name\":\"\"}],\"inputs\":[],\"stateMutability\":\"view\",\"type\":\"function\",\"gas\":2111},{\"name\":\"admin_fee\",\"outputs\":[{\"type\":\"uint256\",\"name\":\"\"}],\"inputs\":[],\"stateMutability\":\"view\",\"type\":\"function\",\"gas\":2141},{\"name\":\"owner\",\"outputs\":[{\"type\":\"address\",\"name\":\"\"}],\"inputs\":[],\"stateMutability\":\"view\",\"type\":\"function\",\"gas\":2171},{\"name\":\"lp_token\",\"outputs\":[{\"type\":\"address\",\"name\":\"\"}],\"inputs\":[],\"stateMutability\":\"view\",\"type\":\"function\",\"gas\":2201},{\"name\":\"initial_A\",\"outputs\":[{\"type\":\"uint256\",\"name\":\"\"}],\"inputs\":[],\"stateMutability\":\"view\",\"type\":\"function\",\"gas\":2231},{\"name\":\"future_A\",\"outputs\":[{\"type\":\"uint256\",\"name\":\"\"}],\"inputs\":[],\"stateMutability\":\"view\",\"type\":\"function\",\"gas\":2261},{\"name\":\"initial_A_time\",\"outputs\":[{\"type\":\"uint256\",\"name\":\"\"}],\"inputs\":[],\"stateMutability\":\"view\",\"type\":\"function\",\"gas\":2291},{\"name\":\"future_A_time\",\"outputs\":[{\"type\":\"uint256\",\"name\":\"\"}],\"inputs\":[],\"stateMutability\":\"view\",\"type\":\"function\",\"gas\":2321},{\"name\":\"admin_actions_deadline\",\"outputs\":[{\"type\":\"uint256\",\"name\":\"\"}],\"inputs\":[],\"stateMutability\":\"view\",\"type\":\"function\",\"gas\":2351},{\"name\":\"transfer_ownership_deadline\",\"outputs\":[{\"type\":\"uint256\",\"name\":\"\"}],\"inputs\":[],\"stateMutability\":\"view\",\"type\":\"function\",\"gas\":2381},{\"name\":\"future_fee\",\"outputs\":[{\"type\":\"uint256\",\"name\":\"\"}],\"inputs\":[],\"stateMutability\":\"view\",\"type\":\"function\",\"gas\":2411},{\"name\":\"future_admin_fee\",\"outputs\":[{\"type\":\"uint256\",\"name\":\"\"}],\"inputs\":[],\"stateMutability\":\"view\",\"type\":\"function\",\"gas\":2441},{\"name\":\"future_owner\",\"outputs\":[{\"type\":\"address\",\"name\":\"\"}],\"inputs\":[],\"stateMutability\":\"view\",\"type\":\"function\",\"gas\":2471}]'"
      ]
     },
     "execution_count": 110,
     "metadata": {},
     "output_type": "execute_result"
    }
   ],
   "source": [
    "steth_abi"
   ]
  },
  {
   "cell_type": "code",
   "execution_count": 124,
   "id": "c614affe-0fb9-4f83-80b1-b1b3953dbb0e",
   "metadata": {},
   "outputs": [
    {
     "data": {
      "text/plain": [
       "'0xDC24316b9AE028F1497c275EB9192a3Ea0f67022'"
      ]
     },
     "execution_count": 124,
     "metadata": {},
     "output_type": "execute_result"
    }
   ],
   "source": [
    "Web3.toChecksumAddress(curve_pools_df.iloc[0,1])"
   ]
  },
  {
   "cell_type": "code",
   "execution_count": 111,
   "id": "0f60422d-4778-4060-9f7a-ff183e8ec2ad",
   "metadata": {},
   "outputs": [
    {
     "data": {
      "text/plain": [
       "'0xdc24316b9ae028f1497c275eb9192a3ea0f67022'"
      ]
     },
     "execution_count": 111,
     "metadata": {},
     "output_type": "execute_result"
    }
   ],
   "source": [
    "curve_pools_df.iloc[0,1]"
   ]
  },
  {
   "cell_type": "code",
   "execution_count": 125,
   "id": "9d2863c5-f01a-4235-a8fc-9095e979220d",
   "metadata": {},
   "outputs": [],
   "source": [
    "steth_contract = web3.eth.contract(address=Web3.toChecksumAddress(curve_pools_df.iloc[0,1]), abi=steth_abi)"
   ]
  },
  {
   "cell_type": "code",
   "execution_count": 137,
   "id": "ea5e2df9-c1d6-4333-bb48-619b0f91b593",
   "metadata": {},
   "outputs": [
    {
     "data": {
      "text/plain": [
       "1026743058555297665"
      ]
     },
     "execution_count": 137,
     "metadata": {},
     "output_type": "execute_result"
    }
   ],
   "source": [
    "steth_contract = web3.eth.contract(address=Web3.toChecksumAddress(0xdc24316b9ae028f1497c275eb9192a3ea0f67022), abi=steth_abi)\n",
    "steth_contract.caller.get_virtual_price(block_identifier=13592555)"
   ]
  },
  {
   "cell_type": "code",
   "execution_count": null,
   "id": "5a0090b0-012e-4935-a549-75b740829066",
   "metadata": {},
   "outputs": [],
   "source": [
    "def get_virtual_price_block_history(pool_address, brownie_pool, start_block, end_block):\n",
    "\n",
    "    virtualprice_dict = {}\n",
    "\n",
    "    for block in range(start_block, end_block+1, 3238):\n",
    "        virtualprice_dict[block] = {}\n",
    "\n",
    "        web3.eth.default_block = block\n",
    "        if str(web3.eth.getCode(pool_address)) != \"b''\":\n",
    "\n",
    "            with brownie.multicall(block_identifier=block):\n",
    "                virtualprice_dict[block]['virtualPrice'] = brownie_pool.get_virtual_price()\n",
    "                virtualprice_dict[block]['timeStamp'] = chain[block].timestamp\n",
    "                print(f'block: {block}, timestamp: {virtualprice_dict[block][\"timeStamp\"]}, virtualPrice: {virtualprice_dict[block][\"virtualPrice\"]}')\n",
    "        \n",
    "        else: print(f'contract doesnt exist at block {block}')\n",
    "\n",
    "    return(virtualprice_dict)"
   ]
  },
  {
   "cell_type": "code",
   "execution_count": 14,
   "id": "73045f6b-cd31-4b40-a0dc-e0aafdaa5fe7",
   "metadata": {},
   "outputs": [
    {
     "ename": "NameError",
     "evalue": "name 'ETHERSCAN_TOKEN' is not defined",
     "output_type": "error",
     "traceback": [
      "\u001b[0;31m---------------------------------------------------------------------------\u001b[0m",
      "\u001b[0;31mNameError\u001b[0m                                 Traceback (most recent call last)",
      "Cell \u001b[0;32mIn[14], line 2\u001b[0m\n\u001b[1;32m      1\u001b[0m load_dotenv()\n\u001b[0;32m----> 2\u001b[0m \u001b[43mETHERSCAN_TOKEN\u001b[49m\n",
      "\u001b[0;31mNameError\u001b[0m: name 'ETHERSCAN_TOKEN' is not defined"
     ]
    }
   ],
   "source": [
    "load_dotenv()\n",
    "ETHERSCAN_TOKEN"
   ]
  },
  {
   "cell_type": "code",
   "execution_count": 17,
   "id": "6f78ad9e-7af8-4902-9de4-3c5a26705ab1",
   "metadata": {},
   "outputs": [],
   "source": [
    "from dotenv import dotenv_values\n",
    "config = dotenv_values(\".env\")"
   ]
  },
  {
   "cell_type": "code",
   "execution_count": 19,
   "id": "041e7b51-73cd-4486-b219-c6b899994b69",
   "metadata": {},
   "outputs": [
    {
     "ename": "NameError",
     "evalue": "name 'os' is not defined",
     "output_type": "error",
     "traceback": [
      "\u001b[0;31m---------------------------------------------------------------------------\u001b[0m",
      "\u001b[0;31mNameError\u001b[0m                                 Traceback (most recent call last)",
      "Cell \u001b[0;32mIn[19], line 1\u001b[0m\n\u001b[0;32m----> 1\u001b[0m \u001b[43mos\u001b[49m\u001b[38;5;241m.\u001b[39mgetenv\n",
      "\u001b[0;31mNameError\u001b[0m: name 'os' is not defined"
     ]
    }
   ],
   "source": [
    "os.getenv"
   ]
  },
  {
   "cell_type": "code",
   "execution_count": 25,
   "id": "6cd6d0be-0f05-49b9-a428-d0672963a933",
   "metadata": {},
   "outputs": [
    {
     "data": {
      "text/plain": [
       "'74fdad52c2124b76a1a94723ae0acfd5'"
      ]
     },
     "execution_count": 25,
     "metadata": {},
     "output_type": "execute_result"
    }
   ],
   "source": [
    "config['WEB3_INFURA_PROJECT_ID']"
   ]
  },
  {
   "cell_type": "code",
   "execution_count": 15,
   "id": "fdb00899-37c6-469b-97cc-7e90d7303135",
   "metadata": {},
   "outputs": [
    {
     "ename": "NameError",
     "evalue": "name 'ETHERSCAN_TOKEN' is not defined",
     "output_type": "error",
     "traceback": [
      "\u001b[0;31m---------------------------------------------------------------------------\u001b[0m",
      "\u001b[0;31mNameError\u001b[0m                                 Traceback (most recent call last)",
      "Cell \u001b[0;32mIn[15], line 1\u001b[0m\n\u001b[0;32m----> 1\u001b[0m \u001b[43mETHERSCAN_TOKEN\u001b[49m\n",
      "\u001b[0;31mNameError\u001b[0m: name 'ETHERSCAN_TOKEN' is not defined"
     ]
    }
   ],
   "source": [
    "ETHERSCAN_TOKEN"
   ]
  },
  {
   "cell_type": "code",
   "execution_count": 4,
   "id": "123400ef-8e91-4626-8f94-dc9796f8a23b",
   "metadata": {},
   "outputs": [
    {
     "ename": "NameError",
     "evalue": "name 'network' is not defined",
     "output_type": "error",
     "traceback": [
      "\u001b[0;31m---------------------------------------------------------------------------\u001b[0m",
      "\u001b[0;31mNameError\u001b[0m                                 Traceback (most recent call last)",
      "Cell \u001b[0;32mIn[4], line 1\u001b[0m\n\u001b[0;32m----> 1\u001b[0m \u001b[43mconnect\u001b[49m\u001b[43m(\u001b[49m\u001b[43m)\u001b[49m\n",
      "Cell \u001b[0;32mIn[3], line 7\u001b[0m, in \u001b[0;36mconnect\u001b[0;34m()\u001b[0m\n\u001b[1;32m      5\u001b[0m \u001b[38;5;66;03m# connect through brownie\u001b[39;00m\n\u001b[1;32m      6\u001b[0m NETWORK \u001b[38;5;241m=\u001b[39m \u001b[38;5;124m\"\u001b[39m\u001b[38;5;124minfuranode\u001b[39m\u001b[38;5;124m\"\u001b[39m\n\u001b[0;32m----> 7\u001b[0m \u001b[43mnetwork\u001b[49m\u001b[38;5;241m.\u001b[39mconnect(NETWORK)\n\u001b[1;32m      8\u001b[0m logging\u001b[38;5;241m.\u001b[39minfo(\u001b[38;5;124mf\u001b[39m\u001b[38;5;124m\"\u001b[39m\u001b[38;5;124mNetwork \u001b[39m\u001b[38;5;132;01m{\u001b[39;00mNETWORK\u001b[38;5;132;01m}\u001b[39;00m\u001b[38;5;124m is connected: %s\u001b[39m\u001b[38;5;124m\"\u001b[39m, network\u001b[38;5;241m.\u001b[39mis_connected())\n\u001b[1;32m      9\u001b[0m web3\u001b[38;5;241m.\u001b[39mnetwork\u001b[38;5;241m.\u001b[39mmulticall\u001b[38;5;241m.\u001b[39mCONFIG\u001b[38;5;241m.\u001b[39mactive_network[\u001b[38;5;124m'\u001b[39m\u001b[38;5;124mmulticall2\u001b[39m\u001b[38;5;124m'\u001b[39m] \u001b[38;5;241m=\u001b[39m \u001b[38;5;124m'\u001b[39m\u001b[38;5;124m0x5BA1e12693Dc8F9c48aAD8770482f4739bEeD696\u001b[39m\u001b[38;5;124m'\u001b[39m\n",
      "\u001b[0;31mNameError\u001b[0m: name 'network' is not defined"
     ]
    }
   ],
   "source": [
    "connect()"
   ]
  },
  {
   "cell_type": "code",
   "execution_count": null,
   "id": "41e8195d-747a-4569-90f2-cf25a59529c9",
   "metadata": {},
   "outputs": [],
   "source": []
  }
 ],
 "metadata": {
  "kernelspec": {
   "display_name": "Python 3 (ipykernel)",
   "language": "python",
   "name": "python3"
  },
  "language_info": {
   "codemirror_mode": {
    "name": "ipython",
    "version": 3
   },
   "file_extension": ".py",
   "mimetype": "text/x-python",
   "name": "python",
   "nbconvert_exporter": "python",
   "pygments_lexer": "ipython3",
   "version": "3.9.10"
  }
 },
 "nbformat": 4,
 "nbformat_minor": 5
}
