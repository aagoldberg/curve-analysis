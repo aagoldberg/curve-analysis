{
 "cells": [
  {
   "cell_type": "code",
   "execution_count": 33,
   "id": "43599b6f-baef-4014-97ad-ce773b4ec9ac",
   "metadata": {},
   "outputs": [],
   "source": [
    "from dotenv import load_dotenv, dotenv_values\n",
    "import logging\n",
    "import json\n",
    "from pandas.io.json import json_normalize\n",
    "import requests\n",
    "import pandas as pd\n",
    "import csv\n",
    "import pickle\n",
    "from web3 import Web3\n",
    "from web3.providers.rpc import HTTPProvider\n",
    "# from web3 import accounts, Contract, chain"
   ]
  },
  {
   "cell_type": "code",
   "execution_count": 40,
   "id": "deff0cdf-b138-44ee-b32e-635dc4da25cd",
   "metadata": {},
   "outputs": [],
   "source": [
    "def connect():\n",
    "    logging.basicConfig(format=\"%(levelname)s: %(message)s\", level=logging.INFO)\n",
    "    config = dotenv_values(\".env\")\n",
    "\n",
    "    alchemy_project_id = config['WEB3_ALCHEMY_PROJECT_ID']\n",
    "    alchemy_url = f'https://eth-mainnet.g.alchemy.com/v2/{alchemy_project_id}'\n",
    "    provider = HTTPProvider(alchemy_url)\n",
    "    web3 = Web3(provider)\n",
    "    print(f'web3.eth: {web3.eth.block_number}')\n",
    "    # web3.network.multicall.CONFIG.active_network['multicall2'] = '0x5BA1e12693Dc8F9c48aAD8770482f4739bEeD696'"
   ]
  },
  {
   "cell_type": "code",
   "execution_count": 41,
   "id": "8eec35e5-2482-41cc-b3e2-1bdd027e07ac",
   "metadata": {},
   "outputs": [
    {
     "name": "stdout",
     "output_type": "stream",
     "text": [
      "web3.eth: 16766772\n"
     ]
    }
   ],
   "source": [
    "connect()"
   ]
  },
  {
   "cell_type": "code",
   "execution_count": null,
   "id": "5a0090b0-012e-4935-a549-75b740829066",
   "metadata": {},
   "outputs": [],
   "source": [
    "def get_virtual_price_block_history(pool_address, brownie_pool, start_block, end_block):\n",
    "\n",
    "    virtualprice_dict = {}\n",
    "\n",
    "    for block in range(start_block, end_block+1, 3238):\n",
    "        virtualprice_dict[block] = {}\n",
    "\n",
    "        web3.eth.default_block = block\n",
    "        if str(web3.eth.getCode(pool_address)) != \"b''\":\n",
    "\n",
    "            with brownie.multicall(block_identifier=block):\n",
    "                virtualprice_dict[block]['virtualPrice'] = brownie_pool.get_virtual_price()\n",
    "                virtualprice_dict[block]['timeStamp'] = chain[block].timestamp\n",
    "                print(f'block: {block}, timestamp: {virtualprice_dict[block][\"timeStamp\"]}, virtualPrice: {virtualprice_dict[block][\"virtualPrice\"]}')\n",
    "        \n",
    "        else: print(f'contract doesnt exist at block {block}')\n",
    "\n",
    "    return(virtualprice_dict)"
   ]
  },
  {
   "cell_type": "code",
   "execution_count": 14,
   "id": "73045f6b-cd31-4b40-a0dc-e0aafdaa5fe7",
   "metadata": {},
   "outputs": [
    {
     "ename": "NameError",
     "evalue": "name 'ETHERSCAN_TOKEN' is not defined",
     "output_type": "error",
     "traceback": [
      "\u001b[0;31m---------------------------------------------------------------------------\u001b[0m",
      "\u001b[0;31mNameError\u001b[0m                                 Traceback (most recent call last)",
      "Cell \u001b[0;32mIn[14], line 2\u001b[0m\n\u001b[1;32m      1\u001b[0m load_dotenv()\n\u001b[0;32m----> 2\u001b[0m \u001b[43mETHERSCAN_TOKEN\u001b[49m\n",
      "\u001b[0;31mNameError\u001b[0m: name 'ETHERSCAN_TOKEN' is not defined"
     ]
    }
   ],
   "source": [
    "load_dotenv()\n",
    "ETHERSCAN_TOKEN"
   ]
  },
  {
   "cell_type": "code",
   "execution_count": 17,
   "id": "6f78ad9e-7af8-4902-9de4-3c5a26705ab1",
   "metadata": {},
   "outputs": [],
   "source": [
    "from dotenv import dotenv_values\n",
    "config = dotenv_values(\".env\")"
   ]
  },
  {
   "cell_type": "code",
   "execution_count": 19,
   "id": "041e7b51-73cd-4486-b219-c6b899994b69",
   "metadata": {},
   "outputs": [
    {
     "ename": "NameError",
     "evalue": "name 'os' is not defined",
     "output_type": "error",
     "traceback": [
      "\u001b[0;31m---------------------------------------------------------------------------\u001b[0m",
      "\u001b[0;31mNameError\u001b[0m                                 Traceback (most recent call last)",
      "Cell \u001b[0;32mIn[19], line 1\u001b[0m\n\u001b[0;32m----> 1\u001b[0m \u001b[43mos\u001b[49m\u001b[38;5;241m.\u001b[39mgetenv\n",
      "\u001b[0;31mNameError\u001b[0m: name 'os' is not defined"
     ]
    }
   ],
   "source": [
    "os.getenv"
   ]
  },
  {
   "cell_type": "code",
   "execution_count": 25,
   "id": "6cd6d0be-0f05-49b9-a428-d0672963a933",
   "metadata": {},
   "outputs": [
    {
     "data": {
      "text/plain": [
       "'74fdad52c2124b76a1a94723ae0acfd5'"
      ]
     },
     "execution_count": 25,
     "metadata": {},
     "output_type": "execute_result"
    }
   ],
   "source": [
    "config['WEB3_INFURA_PROJECT_ID']"
   ]
  },
  {
   "cell_type": "code",
   "execution_count": 15,
   "id": "fdb00899-37c6-469b-97cc-7e90d7303135",
   "metadata": {},
   "outputs": [
    {
     "ename": "NameError",
     "evalue": "name 'ETHERSCAN_TOKEN' is not defined",
     "output_type": "error",
     "traceback": [
      "\u001b[0;31m---------------------------------------------------------------------------\u001b[0m",
      "\u001b[0;31mNameError\u001b[0m                                 Traceback (most recent call last)",
      "Cell \u001b[0;32mIn[15], line 1\u001b[0m\n\u001b[0;32m----> 1\u001b[0m \u001b[43mETHERSCAN_TOKEN\u001b[49m\n",
      "\u001b[0;31mNameError\u001b[0m: name 'ETHERSCAN_TOKEN' is not defined"
     ]
    }
   ],
   "source": [
    "ETHERSCAN_TOKEN"
   ]
  },
  {
   "cell_type": "code",
   "execution_count": 4,
   "id": "123400ef-8e91-4626-8f94-dc9796f8a23b",
   "metadata": {},
   "outputs": [
    {
     "ename": "NameError",
     "evalue": "name 'network' is not defined",
     "output_type": "error",
     "traceback": [
      "\u001b[0;31m---------------------------------------------------------------------------\u001b[0m",
      "\u001b[0;31mNameError\u001b[0m                                 Traceback (most recent call last)",
      "Cell \u001b[0;32mIn[4], line 1\u001b[0m\n\u001b[0;32m----> 1\u001b[0m \u001b[43mconnect\u001b[49m\u001b[43m(\u001b[49m\u001b[43m)\u001b[49m\n",
      "Cell \u001b[0;32mIn[3], line 7\u001b[0m, in \u001b[0;36mconnect\u001b[0;34m()\u001b[0m\n\u001b[1;32m      5\u001b[0m \u001b[38;5;66;03m# connect through brownie\u001b[39;00m\n\u001b[1;32m      6\u001b[0m NETWORK \u001b[38;5;241m=\u001b[39m \u001b[38;5;124m\"\u001b[39m\u001b[38;5;124minfuranode\u001b[39m\u001b[38;5;124m\"\u001b[39m\n\u001b[0;32m----> 7\u001b[0m \u001b[43mnetwork\u001b[49m\u001b[38;5;241m.\u001b[39mconnect(NETWORK)\n\u001b[1;32m      8\u001b[0m logging\u001b[38;5;241m.\u001b[39minfo(\u001b[38;5;124mf\u001b[39m\u001b[38;5;124m\"\u001b[39m\u001b[38;5;124mNetwork \u001b[39m\u001b[38;5;132;01m{\u001b[39;00mNETWORK\u001b[38;5;132;01m}\u001b[39;00m\u001b[38;5;124m is connected: %s\u001b[39m\u001b[38;5;124m\"\u001b[39m, network\u001b[38;5;241m.\u001b[39mis_connected())\n\u001b[1;32m      9\u001b[0m web3\u001b[38;5;241m.\u001b[39mnetwork\u001b[38;5;241m.\u001b[39mmulticall\u001b[38;5;241m.\u001b[39mCONFIG\u001b[38;5;241m.\u001b[39mactive_network[\u001b[38;5;124m'\u001b[39m\u001b[38;5;124mmulticall2\u001b[39m\u001b[38;5;124m'\u001b[39m] \u001b[38;5;241m=\u001b[39m \u001b[38;5;124m'\u001b[39m\u001b[38;5;124m0x5BA1e12693Dc8F9c48aAD8770482f4739bEeD696\u001b[39m\u001b[38;5;124m'\u001b[39m\n",
      "\u001b[0;31mNameError\u001b[0m: name 'network' is not defined"
     ]
    }
   ],
   "source": [
    "connect()"
   ]
  },
  {
   "cell_type": "code",
   "execution_count": null,
   "id": "41e8195d-747a-4569-90f2-cf25a59529c9",
   "metadata": {},
   "outputs": [],
   "source": []
  }
 ],
 "metadata": {
  "kernelspec": {
   "display_name": "Python 3 (ipykernel)",
   "language": "python",
   "name": "python3"
  },
  "language_info": {
   "codemirror_mode": {
    "name": "ipython",
    "version": 3
   },
   "file_extension": ".py",
   "mimetype": "text/x-python",
   "name": "python",
   "nbconvert_exporter": "python",
   "pygments_lexer": "ipython3",
   "version": "3.9.10"
  }
 },
 "nbformat": 4,
 "nbformat_minor": 5
}
